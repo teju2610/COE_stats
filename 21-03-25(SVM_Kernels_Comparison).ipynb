{
 "cells": [
  {
   "cell_type": "code",
   "execution_count": 2,
   "id": "d09e45a5-d71f-4cfd-833e-277340327cce",
   "metadata": {},
   "outputs": [],
   "source": [
    "import pandas as pd\n",
    "import numpy as np\n",
    "import matplotlib.pyplot as plt\n",
    "import seaborn as sns\n",
    "from sklearn.model_selection import train_test_split\n",
    "from sklearn.preprocessing import StandardScaler,LabelEncoder\n",
    "from sklearn.decomposition import PCA\n",
    "from sklearn.metrics import accuracy_score,classification_report,confusion_matrix\n",
    "from sklearn.svm import SVC"
   ]
  },
  {
   "cell_type": "code",
   "execution_count": 5,
   "id": "13df6ca3-ad7f-4e96-89ea-7cca1e094e8d",
   "metadata": {},
   "outputs": [],
   "source": [
    "df=pd.read_csv(\"C:\\\\Users\\\\tejas\\\\Downloads\\\\heart.csv\")"
   ]
  },
  {
   "cell_type": "code",
   "execution_count": 6,
   "id": "1947c3c0-37db-41d6-9378-6f51178d0dba",
   "metadata": {},
   "outputs": [],
   "source": [
    "df.dropna(inplace=True)\n",
    "label_encoders={}\n",
    "for col in df.select_dtypes(include=['object']).columns:\n",
    "    le=LabelEncoder()\n",
    "    df[col]=le.fit_transform(df[col])\n",
    "    label_encoder[col]=le"
   ]
  },
  {
   "cell_type": "markdown",
   "id": "acf7b518-a586-4ebb-89cc-6644c66df283",
   "metadata": {},
   "source": [
    "## Split Dataset into Training and Testing Sets"
   ]
  },
  {
   "cell_type": "code",
   "execution_count": 7,
   "id": "8d4534b3-2baa-4807-ba0f-0126c719b2b3",
   "metadata": {},
   "outputs": [],
   "source": [
    "X=df.drop(columns=['target'])\n",
    "y=df['target']\n",
    "X_train,X_test,y_train,y_test=train_test_split(X,y,test_size=0.2,random_state=42)\n"
   ]
  },
  {
   "cell_type": "markdown",
   "id": "e47387e6-3351-4d8f-b70e-3d2ba16f0b45",
   "metadata": {},
   "source": [
    "## Standardize Features"
   ]
  },
  {
   "cell_type": "code",
   "execution_count": 8,
   "id": "773ba57e-5793-4ffe-a763-272c05aa754d",
   "metadata": {},
   "outputs": [],
   "source": [
    "scaler=StandardScaler()\n",
    "X_train=scaler.fit_transform(X_train)\n",
    "X_test=scaler.transform(X_test)"
   ]
  },
  {
   "cell_type": "markdown",
   "id": "35eef703-a2c3-4874-ab7a-ef31f6036745",
   "metadata": {},
   "source": [
    "## Train and Evaluate SVM Models"
   ]
  },
  {
   "cell_type": "code",
   "execution_count": 11,
   "id": "6cfff95c-dd81-48c2-880d-8bc120052f06",
   "metadata": {},
   "outputs": [],
   "source": [
    "svm_linear=SVC(kernel='linear',C=1)\n",
    "svm_linear.fit(X_train,y_train)\n",
    "y_pred_linear=svm_linear.predict(X_test)\n",
    "\n",
    "svm_poly=SVC(kernel='poly',degree=3,C=1)\n",
    "svm_poly.fit(X_train,y_train)\n",
    "y_pred_poly=svm_poly.predict(X_test)\n",
    "\n",
    "svm_rbf=SVC(kernel='rbf',C=1,gamma='scale')\n",
    "svm_rbf.fit(X_train,y_train)\n",
    "y_pred_rbf=svm_rbf.predict(X_test)"
   ]
  },
  {
   "cell_type": "markdown",
   "id": "7dd25e67-6b80-4d32-a620-d57e7a6158d0",
   "metadata": {},
   "source": [
    "## Evaluate Model Performance"
   ]
  },
  {
   "cell_type": "code",
   "execution_count": null,
   "id": "3306e127-a6b4-4eac-92e5-bb77a891defe",
   "metadata": {},
   "outputs": [],
   "source": [
    "print(f'Linear Kernel Accuracy:{accuracy_score(y_test,y_pred_linear):.2f}')\n",
    "print(f'Polynomial Kernel Accuracy:{accuracy_score(y_test,y_pred_poly):.2f}')\n",
    "print(f'RBF Kernel Accuracy:{accuracy_score(y_test,y"
   ]
  }
 ],
 "metadata": {
  "kernelspec": {
   "display_name": "Python 3 (ipykernel)",
   "language": "python",
   "name": "python3"
  },
  "language_info": {
   "codemirror_mode": {
    "name": "ipython",
    "version": 3
   },
   "file_extension": ".py",
   "mimetype": "text/x-python",
   "name": "python",
   "nbconvert_exporter": "python",
   "pygments_lexer": "ipython3",
   "version": "3.13.1"
  }
 },
 "nbformat": 4,
 "nbformat_minor": 5
}
